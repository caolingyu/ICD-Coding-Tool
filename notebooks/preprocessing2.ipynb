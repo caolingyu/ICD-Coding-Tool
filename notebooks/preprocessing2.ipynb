{
 "cells": [
  {
   "cell_type": "markdown",
   "metadata": {},
   "source": [
    "# 中文数据预处理"
   ]
  },
  {
   "cell_type": "markdown",
   "metadata": {},
   "source": [
    "### 导入所需的包"
   ]
  },
  {
   "cell_type": "code",
   "execution_count": 1,
   "metadata": {
    "collapsed": true
   },
   "outputs": [],
   "source": [
    "# coding=utf-8\n",
    "import sys\n",
    "sys.path.append('../')\n",
    "import datasets\n",
    "from preprocessing import build_vocab\n",
    "from preprocessing import vocab_index_descriptions\n",
    "from constants import DATA_DIR\n",
    "\n",
    "import numpy as np\n",
    "import pandas as pd\n",
    "import matplotlib.pyplot as plt\n",
    "import seaborn as sns\n",
    "import jieba\n",
    "from sklearn.model_selection import train_test_split\n",
    "\n",
    "from collections import Counter, defaultdict\n",
    "import csv\n",
    "import math\n",
    "import operator\n",
    "import importlib"
   ]
  },
  {
   "cell_type": "markdown",
   "metadata": {},
   "source": [
    "### 首先将三个文件导入pandas.dataframe并合并、提取所需的列"
   ]
  },
  {
   "cell_type": "code",
   "execution_count": 7,
   "metadata": {},
   "outputs": [
    {
     "name": "stdout",
     "output_type": "stream",
     "text": [
      "242877\n"
     ]
    }
   ],
   "source": [
    "data_path1 = \"../data/2014首页.csv\"\n",
    "data_path2 = \"../data/2015首页.csv\"\n",
    "data_path3 = \"../data/2016首页.csv\"\n",
    "df1 = pd.read_csv(data_path1, engine='python', encoding='gb18030')\n",
    "df2 = pd.read_csv(data_path2, engine='python', encoding='gb18030')\n",
    "df3 = pd.read_csv(data_path3, engine='python', encoding='gb18030')\n",
    "df = pd.concat([df1, df2, df3], ignore_index=True)\n",
    "df_main = df[['MAIN_DIAG','MAIN_ICD_CODE']]\n",
    "print(len(df_main))"
   ]
  },
  {
   "cell_type": "markdown",
   "metadata": {},
   "source": [
    "### 筛选出code频数大于threashold对应的记录，去除部分code后面的+符号"
   ]
  },
  {
   "cell_type": "code",
   "execution_count": 6,
   "metadata": {},
   "outputs": [
    {
     "name": "stdout",
     "output_type": "stream",
     "text": [
      "100\n",
      "129132\n",
      "['Z51.102' 'Z51.100' 'J18.000' 'B08.401' 'O80.000' 'D25.900' 'O42.900'\n",
      " 'P23.900' 'O34.201' 'Z36.001' 'K40.901' 'J18.900' 'O04.900' 'I63.900'\n",
      " 'H25.900' 'P39.900' 'P59.901' 'Z51.901' 'C34.900' 'Z51.1' 'E04.902'\n",
      " 'C50.900' 'O70.000' 'G45.004' 'N40.x00' 'N60.201' 'I63.905' 'J06.900'\n",
      " 'J98.414' 'D06.900' 'C20.x00' 'K80.101' 'D27.x00' 'I84.201' 'M81.901'\n",
      " 'O24.900' 'J38.102' 'G40.901' 'Z47.001' 'C73.x00' 'C53.900' 'I25.901'\n",
      " 'C22.000' 'O82.000' 'P22.001' 'J44.100' 'K80.000' 'Z51.801' 'J03.901'\n",
      " 'I20.000' 'D24.x00' 'N80.100' 'C34.101' 'Z35.401' 'QTZD1' 'Z51.002'\n",
      " 'I25.103' 'O60.100' 'N84.001' 'O03.901' 'P07.300' 'Z29.101' 'J21.900'\n",
      " 'C15.400' 'A16.200' 'N04.900' 'J44.000' 'J03.900' 'A41.901' 'P21.900'\n",
      " 'E11.700' 'K56.100' 'E05.003' 'J20.900' 'O00.104' 'Z51.001' 'P07.101'\n",
      " 'D34.x00' 'R10.400' 'Z29.100' 'J44.101' 'K52.916' 'E11.900' 'J32.901'\n",
      " 'N87.001' 'N13.202' 'D61.900' 'C11.900' 'Z92.8' 'N87.101' 'I83.900'\n",
      " 'J35.000' 'Z33.x00' 'C18.700' 'I61.004' 'A86.x00' 'C22.900' 'B99.x01'\n",
      " 'K35.900' 'C34.301']\n"
     ]
    },
    {
     "data": {
      "text/html": [
       "<div>\n",
       "<style>\n",
       "    .dataframe thead tr:only-child th {\n",
       "        text-align: right;\n",
       "    }\n",
       "\n",
       "    .dataframe thead th {\n",
       "        text-align: left;\n",
       "    }\n",
       "\n",
       "    .dataframe tbody tr th {\n",
       "        vertical-align: top;\n",
       "    }\n",
       "</style>\n",
       "<table border=\"1\" class=\"dataframe\">\n",
       "  <thead>\n",
       "    <tr style=\"text-align: right;\">\n",
       "      <th></th>\n",
       "      <th>MAIN_DIAG</th>\n",
       "      <th>MAIN_ICD_CODE</th>\n",
       "    </tr>\n",
       "  </thead>\n",
       "  <tbody>\n",
       "    <tr>\n",
       "      <th>0</th>\n",
       "      <td>新生儿肺炎</td>\n",
       "      <td>P23.900</td>\n",
       "    </tr>\n",
       "    <tr>\n",
       "      <th>1</th>\n",
       "      <td>急性右额叶、胼胝体右侧部梗塞</td>\n",
       "      <td>I63.900</td>\n",
       "    </tr>\n",
       "    <tr>\n",
       "      <th>2</th>\n",
       "      <td>非霍奇金淋巴瘤Ⅳ期B组（T淋巴母细胞性）并淋巴瘤白血病</td>\n",
       "      <td>Z51.901</td>\n",
       "    </tr>\n",
       "    <tr>\n",
       "      <th>3</th>\n",
       "      <td>急性腹泻病</td>\n",
       "      <td>K52.916</td>\n",
       "    </tr>\n",
       "    <tr>\n",
       "      <th>4</th>\n",
       "      <td>胎膜早破</td>\n",
       "      <td>O42.900</td>\n",
       "    </tr>\n",
       "  </tbody>\n",
       "</table>\n",
       "</div>"
      ],
      "text/plain": [
       "                     MAIN_DIAG MAIN_ICD_CODE\n",
       "0                        新生儿肺炎       P23.900\n",
       "1               急性右额叶、胼胝体右侧部梗塞       I63.900\n",
       "2  非霍奇金淋巴瘤Ⅳ期B组（T淋巴母细胞性）并淋巴瘤白血病       Z51.901\n",
       "3                        急性腹泻病       K52.916\n",
       "4                         胎膜早破       O42.900"
      ]
     },
     "execution_count": 6,
     "metadata": {},
     "output_type": "execute_result"
    }
   ],
   "source": [
    "threshold = 100\n",
    "value_counts = df_main['MAIN_ICD_CODE'].value_counts()\n",
    "print(len(value_counts))\n",
    "# print(value_counts[100].index)\n",
    "# to_remove = value_counts[value_counts <= threshold].index\n",
    "to_remove = value_counts[100:].index\n",
    "df_main = df_main.loc[~df_main['MAIN_ICD_CODE'].isin(to_remove),:]\n",
    "df_main = df_main.dropna(axis=0, how='any')\n",
    "df_main = df_main.applymap(lambda x: x.strip('+') if type(x) is str else x)\n",
    "df_main = df_main.reset_index(drop=True)\n",
    "value_counts_after = df_main['MAIN_ICD_CODE'].value_counts()\n",
    "# df_main['MAIN_ICD_CODE'].value_counts()\n",
    "print(len(df_main))\n",
    "print(value_counts_after.index.values)\n",
    "df_main.head()"
   ]
  },
  {
   "cell_type": "markdown",
   "metadata": {},
   "source": [
    "### 对诊断描述进行分词并统计"
   ]
  },
  {
   "cell_type": "code",
   "execution_count": 5,
   "metadata": {},
   "outputs": [
    {
     "name": "stderr",
     "output_type": "stream",
     "text": [
      "Building prefix dict from the default dictionary ...\n",
      "Loading model from cache /var/folders/lg/qxn9gw8j7x75pddgvfpgbfg40000gn/T/jieba.cache\n",
      "Loading model cost 1.023 seconds.\n",
      "Prefix dict has been built succesfully.\n"
     ]
    },
    {
     "data": {
      "text/html": [
       "<div>\n",
       "<style>\n",
       "    .dataframe thead tr:only-child th {\n",
       "        text-align: right;\n",
       "    }\n",
       "\n",
       "    .dataframe thead th {\n",
       "        text-align: left;\n",
       "    }\n",
       "\n",
       "    .dataframe tbody tr th {\n",
       "        vertical-align: top;\n",
       "    }\n",
       "</style>\n",
       "<table border=\"1\" class=\"dataframe\">\n",
       "  <thead>\n",
       "    <tr style=\"text-align: right;\">\n",
       "      <th></th>\n",
       "      <th>MAIN_DIAG</th>\n",
       "      <th>MAIN_ICD_CODE</th>\n",
       "      <th>DIAG_SPLIT</th>\n",
       "    </tr>\n",
       "  </thead>\n",
       "  <tbody>\n",
       "    <tr>\n",
       "      <th>0</th>\n",
       "      <td>新生儿肺炎</td>\n",
       "      <td>P23.900</td>\n",
       "      <td>新生儿肺炎</td>\n",
       "    </tr>\n",
       "    <tr>\n",
       "      <th>1</th>\n",
       "      <td>急性右额叶、胼胝体右侧部梗塞</td>\n",
       "      <td>I63.900</td>\n",
       "      <td>急性 右 额叶 、 胼胝体 右侧 部 梗塞</td>\n",
       "    </tr>\n",
       "    <tr>\n",
       "      <th>2</th>\n",
       "      <td>非霍奇金淋巴瘤Ⅳ期B组（T淋巴母细胞性）并淋巴瘤白血病</td>\n",
       "      <td>Z51.901</td>\n",
       "      <td>非霍奇金淋巴瘤 Ⅳ 期 B 组 （ T 淋巴 母细胞 性 ） 并 淋巴瘤 白血病</td>\n",
       "    </tr>\n",
       "    <tr>\n",
       "      <th>3</th>\n",
       "      <td>急性腹泻病</td>\n",
       "      <td>K52.916</td>\n",
       "      <td>急性腹泻 病</td>\n",
       "    </tr>\n",
       "    <tr>\n",
       "      <th>4</th>\n",
       "      <td>胎膜早破</td>\n",
       "      <td>O42.900</td>\n",
       "      <td>胎膜早破</td>\n",
       "    </tr>\n",
       "  </tbody>\n",
       "</table>\n",
       "</div>"
      ],
      "text/plain": [
       "                     MAIN_DIAG MAIN_ICD_CODE  \\\n",
       "0                        新生儿肺炎       P23.900   \n",
       "1               急性右额叶、胼胝体右侧部梗塞       I63.900   \n",
       "2  非霍奇金淋巴瘤Ⅳ期B组（T淋巴母细胞性）并淋巴瘤白血病       Z51.901   \n",
       "3                        急性腹泻病       K52.916   \n",
       "4                         胎膜早破       O42.900   \n",
       "\n",
       "                                 DIAG_SPLIT  \n",
       "0                                     新生儿肺炎  \n",
       "1                     急性 右 额叶 、 胼胝体 右侧 部 梗塞  \n",
       "2  非霍奇金淋巴瘤 Ⅳ 期 B 组 （ T 淋巴 母细胞 性 ） 并 淋巴瘤 白血病  \n",
       "3                                    急性腹泻 病  \n",
       "4                                      胎膜早破  "
      ]
     },
     "execution_count": 5,
     "metadata": {},
     "output_type": "execute_result"
    }
   ],
   "source": [
    "jieba.load_userdict('../preprocessing/dict.txt')\n",
    "df_main['DIAG_SPLIT'] = \"\"\n",
    "for row in df_main.itertuples():\n",
    "    cut = jieba.cut(row[1])\n",
    "    diag_split = ' '.join(cut)\n",
    "    df_main.loc[row[0]]['DIAG_SPLIT'] = diag_split\n",
    "df_main.head()"
   ]
  },
  {
   "cell_type": "code",
   "execution_count": 6,
   "metadata": {
    "collapsed": true
   },
   "outputs": [],
   "source": [
    "#Tokens and types\n",
    "types = set()\n",
    "num_tok = 0\n",
    "for row in df_main.itertuples():\n",
    "    for w in row[3].split():\n",
    "        types.add(w)\n",
    "        num_tok += 1"
   ]
  },
  {
   "cell_type": "code",
   "execution_count": 7,
   "metadata": {},
   "outputs": [
    {
     "name": "stdout",
     "output_type": "stream",
     "text": [
      "Num types 7539\n",
      "Num tokens 902873\n"
     ]
    }
   ],
   "source": [
    "print(\"Num types\", len(types))\n",
    "print(\"Num tokens\", str(num_tok))"
   ]
  },
  {
   "cell_type": "markdown",
   "metadata": {},
   "source": [
    "### 划分训练集和测试集、建立词汇表"
   ]
  },
  {
   "cell_type": "code",
   "execution_count": 8,
   "metadata": {
    "collapsed": true
   },
   "outputs": [],
   "source": [
    "train, test = train_test_split(df_main, test_size=0.2)\n",
    "train.to_csv('../data/train_raw.csv', index=False, encoding='gb18030')\n",
    "test.to_csv('../data/test_raw.csv', index=False, encoding='gb18030')"
   ]
  },
  {
   "cell_type": "code",
   "execution_count": 9,
   "metadata": {},
   "outputs": [
    {
     "name": "stdout",
     "output_type": "stream",
     "text": [
      "reading in data...\n",
      "removing rare terms\n",
      "3959 terms qualify out of 7001 total\n",
      "writing output\n"
     ]
    }
   ],
   "source": [
    "importlib.reload(build_vocab)\n",
    "vocab_min = 3\n",
    "train_file = '../data/train_raw.csv'\n",
    "vname = '../data/vocab.csv'\n",
    "build_vocab.build_vocab(vocab_min, train_file, vname)"
   ]
  },
  {
   "cell_type": "markdown",
   "metadata": {},
   "source": [
    "### Pre-train word embedding"
   ]
  },
  {
   "cell_type": "code",
   "execution_count": null,
   "metadata": {
    "collapsed": true
   },
   "outputs": [],
   "source": [
    "reload(word_embeddings)\n",
    "w2v_file = word_embeddings.word_embeddings('full', '%s/disch_full.csv' % MIMIC_3_DIR, 100, 0, 5)"
   ]
  },
  {
   "cell_type": "markdown",
   "metadata": {},
   "source": [
    "### Write pre-trained word embeddings with new vocab"
   ]
  },
  {
   "cell_type": "code",
   "execution_count": null,
   "metadata": {
    "collapsed": true
   },
   "outputs": [],
   "source": [
    "reload(extract_wvs)\n",
    "reload(datasets)\n",
    "extract_wvs.gensim_to_embeddings('%s/processed_full.w2v' % MIMIC_3_DIR, '%s/vocab.csv' % MIMIC_3_DIR)"
   ]
  },
  {
   "cell_type": "markdown",
   "metadata": {},
   "source": [
    "### 导入ICD Description并对训练集和测试集再做筛选"
   ]
  },
  {
   "cell_type": "code",
   "execution_count": 10,
   "metadata": {},
   "outputs": [
    {
     "name": "stderr",
     "output_type": "stream",
     "text": [
      "100%|██████████| 23067/23067 [00:01<00:00, 17695.39it/s]\n"
     ]
    }
   ],
   "source": [
    "importlib.reload(vocab_index_descriptions)\n",
    "importlib.reload(datasets)\n",
    "vocab_index_descriptions.vocab_index_descriptions('../data/vocab.csv',\n",
    "                                                  '../data/description_vectors.vocab')"
   ]
  },
  {
   "cell_type": "code",
   "execution_count": 226,
   "metadata": {
    "collapsed": true
   },
   "outputs": [],
   "source": [
    "desc_code_list = []\n",
    "with open(\"../data/description_vectors.vocab\", 'r', encoding='gb18030') as vfile:\n",
    "    r = csv.reader(vfile, delimiter=\" \")\n",
    "    next(r)\n",
    "    for row in r:\n",
    "        code = row[0]\n",
    "        desc_code_list.append(code)"
   ]
  },
  {
   "cell_type": "code",
   "execution_count": 11,
   "metadata": {
    "collapsed": true
   },
   "outputs": [],
   "source": [
    "for splt in ['train', 'test']:\n",
    "    filename = '../data/{}_raw.csv'.format(splt)\n",
    "    df_temp = pd.read_csv(filename, encoding='gb18030')\n",
    "#     df_temp = df_temp[df_temp['MAIN_ICD_CODE'].isin(desc_code_list)]\n",
    "    df_temp['length'] = df_temp.apply(lambda row: len(str(row['DIAG_SPLIT']).split()), axis=1)\n",
    "    df_temp = df_temp.sort_values(['length'])\n",
    "    df_temp.to_csv('../data/{}.csv'.format(splt), index=False, encoding='gb18030')"
   ]
  },
  {
   "cell_type": "code",
   "execution_count": 12,
   "metadata": {
    "collapsed": true
   },
   "outputs": [],
   "source": [
    "df_train = pd.read_csv(\"../data/train.csv\", engine='python', encoding='gb18030')\n",
    "df_test = pd.read_csv(\"../data/test.csv\", engine='python', encoding='gb18030')\n",
    "code_list = df_train['MAIN_ICD_CODE'].value_counts().index.values\n",
    "with open('../data/code_list.csv', 'w', encoding='gb18030') as of:\n",
    "    w = csv.writer(of)\n",
    "    for code in code_list:\n",
    "        w.writerow([code])"
   ]
  },
  {
   "cell_type": "markdown",
   "metadata": {},
   "source": [
    "# 测试区域"
   ]
  },
  {
   "cell_type": "code",
   "execution_count": null,
   "metadata": {
    "collapsed": true
   },
   "outputs": [],
   "source": []
  },
  {
   "cell_type": "code",
   "execution_count": null,
   "metadata": {
    "collapsed": true
   },
   "outputs": [],
   "source": []
  }
 ],
 "metadata": {
  "kernelspec": {
   "display_name": "Python 3",
   "language": "python",
   "name": "python3"
  },
  "language_info": {
   "codemirror_mode": {
    "name": "ipython",
    "version": 3
   },
   "file_extension": ".py",
   "mimetype": "text/x-python",
   "name": "python",
   "nbconvert_exporter": "python",
   "pygments_lexer": "ipython3",
   "version": "3.6.2"
  }
 },
 "nbformat": 4,
 "nbformat_minor": 2
}
